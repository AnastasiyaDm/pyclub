{
 "cells": [
  {
   "cell_type": "markdown",
   "metadata": {},
   "source": [
    "# Fizz Bazz task"
   ]
  },
  {
   "cell_type": "markdown",
   "metadata": {},
   "source": [
    "### Для начала\n",
    "\n",
    "Дан файл с именами учеников. Скрипт должен был вывести некоторых учеников с фамилией, но возникли ошибки. Видимо программист был невнимателен =/"
   ]
  },
  {
   "cell_type": "code",
   "execution_count": null,
   "metadata": {},
   "outputs": [],
   "source": [
    "with open('names.txt') as names_file:\n",
    "    for name in names_file.readlines:\n",
    "        if name == 'Vadim':\n",
    "            print 'Here is Vadim Yanko'\n",
    "        elif name == 'Ivan':\n",
    "            print 'Here is Ivan Styazhkin'\n",
    "        elif name = 'Anton':\n",
    "            print 'Here is Anton Savchenko'\n",
    "        else:\n",
    "            print 'Here is %' % name"
   ]
  },
  {
   "cell_type": "markdown",
   "metadata": {},
   "source": [
    "### Пока не кончится"
   ]
  },
  {
   "cell_type": "code",
   "execution_count": null,
   "metadata": {},
   "outputs": [],
   "source": [
    "with open(filename) as names_file:\n",
    "    name = 'start'\n",
    "    while name:\n",
    "        name = names_file.readline()\n",
    "        print name"
   ]
  },
  {
   "cell_type": "code",
   "execution_count": null,
   "metadata": {},
   "outputs": [],
   "source": [
    "with open(filename) as names_file:\n",
    "    text = names_file.read()\n",
    "    print(text)\n",
    "\n",
    "names_file.read()"
   ]
  },
  {
   "cell_type": "code",
   "execution_count": null,
   "metadata": {},
   "outputs": [],
   "source": [
    "opened_names_file = open('names.txt')\n",
    "try:\n",
    "    opened_names_file.readline()\n",
    "except Exception as e:\n",
    "    print 'No exception will happen. For sure!'\n",
    "finally:\n",
    "    print 'Finally'\n",
    "\n",
    "try:\n",
    "    print names_file.read()\n",
    "except ValueError:\n",
    "    print 'Hello! This file is closed.'\n",
    "finally:\n",
    "    print 'Good'\n"
   ]
  }
 ],
 "metadata": {
  "kernelspec": {
   "display_name": "Python 2",
   "language": "python",
   "name": "python2"
  },
  "language_info": {
   "codemirror_mode": {
    "name": "ipython",
    "version": 2
   },
   "file_extension": ".py",
   "mimetype": "text/x-python",
   "name": "python",
   "nbconvert_exporter": "python",
   "pygments_lexer": "ipython2",
   "version": "2.7.10"
  }
 },
 "nbformat": 4,
 "nbformat_minor": 2
}
