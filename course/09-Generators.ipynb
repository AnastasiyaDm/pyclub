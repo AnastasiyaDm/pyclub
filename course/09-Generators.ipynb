{
 "cells": [
  {
   "cell_type": "markdown",
   "metadata": {},
   "source": [
    "# Generator\n",
    "Is a function which yields items in a sequence"
   ]
  },
  {
   "cell_type": "code",
   "execution_count": null,
   "metadata": {},
   "outputs": [],
   "source": [
    "def generator():\n",
    "    yield 'foo'"
   ]
  },
  {
   "cell_type": "code",
   "execution_count": null,
   "metadata": {},
   "outputs": [],
   "source": [
    "generator()"
   ]
  },
  {
   "cell_type": "code",
   "execution_count": null,
   "metadata": {},
   "outputs": [],
   "source": [
    "gen = _\n",
    "dir(gen)"
   ]
  },
  {
   "cell_type": "code",
   "execution_count": null,
   "metadata": {},
   "outputs": [],
   "source": [
    "gen.next()"
   ]
  },
  {
   "cell_type": "code",
   "execution_count": null,
   "metadata": {},
   "outputs": [],
   "source": [
    "gen.next()"
   ]
  },
  {
   "cell_type": "code",
   "execution_count": null,
   "metadata": {},
   "outputs": [],
   "source": [
    "for item in generator():\n",
    "    print item"
   ]
  },
  {
   "cell_type": "code",
   "execution_count": null,
   "metadata": {},
   "outputs": [],
   "source": [
    "def generator():\n",
    "    first = 'first'\n",
    "    yield first\n",
    "    second = 'second'\n",
    "    yield second\n",
    "    yield first + ' ' + second"
   ]
  },
  {
   "cell_type": "code",
   "execution_count": null,
   "metadata": {},
   "outputs": [],
   "source": [
    "for i in generator():\n",
    "    print i"
   ]
  },
  {
   "cell_type": "code",
   "execution_count": null,
   "metadata": {},
   "outputs": [],
   "source": [
    "def gen_even_only(sequence):\n",
    "    for i in sequence:\n",
    "        if i % 2 == 0:\n",
    "            yield i"
   ]
  },
  {
   "cell_type": "code",
   "execution_count": null,
   "metadata": {},
   "outputs": [],
   "source": [
    "for i in gen_even_only(range(30)):\n",
    "    print i"
   ]
  },
  {
   "cell_type": "markdown",
   "metadata": {},
   "source": [
    "# Boring\n",
    "Why should we care?"
   ]
  },
  {
   "cell_type": "code",
   "execution_count": null,
   "metadata": {},
   "outputs": [],
   "source": [
    "# Find all team names which starts with u'Ф'\n",
    "filename = 'data/teams.csv'\n",
    "with open(filename) as file_obj:\n",
    "    lines = file_obj.readlines()\n",
    "\n",
    "teams = []\n",
    "for line in lines:\n",
    "    _, name = line.split(',', 1)\n",
    "    name = name.decode('utf-8')\n",
    "    if name.startswith(u'Ф'):\n",
    "        teams.append(name)\n",
    "len(teams)"
   ]
  },
  {
   "cell_type": "code",
   "execution_count": null,
   "metadata": {},
   "outputs": [],
   "source": [
    "import csv\n",
    "\n",
    "\n",
    "def gen_team_names(csv_path):\n",
    "    with open(csv_path) as file_obj:\n",
    "        reader = csv.reader(file_obj)\n",
    "        print dir(reader)\n",
    "        for row in reader:\n",
    "            _, name = row\n",
    "            yield name.decode('utf-8')\n",
    "\n",
    "\n",
    "def gen_startswith(sequence, symbol):\n",
    "    for item in sequence:\n",
    "        if item.startswith(symbol):\n",
    "            yield item\n",
    "\n",
    "\n",
    "gen_names = gen_team_names(filename)\n",
    "gen_wanted_names = gen_startswith(gen_names, u'Ф')\n",
    "\n",
    "print gen_wanted_names.next()\n",
    "print gen_wanted_names.next()"
   ]
  },
  {
   "cell_type": "code",
   "execution_count": null,
   "metadata": {},
   "outputs": [],
   "source": [
    "# Find those names which starts with u'ФК' and consist of three words or more\n",
    "new_result = []\n",
    "for team_name in result:\n",
    "    if team_name.count(' ') >= 2:\n",
    "        new_result.append(team_name)\n",
    "len(new_result)"
   ]
  },
  {
   "cell_type": "code",
   "execution_count": null,
   "metadata": {},
   "outputs": [],
   "source": [
    "for team_name in new_result:\n",
    "    print team_name"
   ]
  },
  {
   "cell_type": "markdown",
   "metadata": {},
   "source": [
    "# Homework\n",
    "Build a generator which will do .."
   ]
  }
 ],
 "metadata": {
  "kernelspec": {
   "display_name": "Python 2",
   "language": "python",
   "name": "python2"
  },
  "language_info": {
   "codemirror_mode": {
    "name": "ipython",
    "version": 2
   },
   "file_extension": ".py",
   "mimetype": "text/x-python",
   "name": "python",
   "nbconvert_exporter": "python",
   "pygments_lexer": "ipython2",
   "version": "2.7.12"
  }
 },
 "nbformat": 4,
 "nbformat_minor": 2
}
