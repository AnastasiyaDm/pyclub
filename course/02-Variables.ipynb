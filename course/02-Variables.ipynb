{
 "cells": [
  {
   "cell_type": "markdown",
   "metadata": {},
   "source": [
    "# Переменные\n",
    "\n",
    "Это имена, которым можно присваивать значения. Несколько имен могут ссылаться на одно и то же значение. Значения можно преобразовывать к другим типам. Например строку из цифр в число и обратно.\n",
    "Имя переменной начинается с латинской буквы и состоит из букв, цифр и символа подчеркивания. Например `my_volume1`\n",
    "Операция `print()` выводит на консоль значение переданной переменной или выражения"
   ]
  },
  {
   "cell_type": "code",
   "execution_count": 1,
   "metadata": {
    "collapsed": false
   },
   "outputs": [
    {
     "name": "stdout",
     "output_type": "stream",
     "text": [
      "a = 2\n",
      "b = 2\n",
      "greetings = greetings\n",
      "greetings = hola, muchachos\n"
     ]
    }
   ],
   "source": [
    "a = b = 2  # This is called a \"chained assignment\". It assigns the value 2 to variables \"a\" and \"b\".\n",
    "print(\"a = \" + str(a))   # We'll explain the expression str(a) later in the course. For now it is used to convert the  variable \"a\" to a string.\n",
    "print(\"b = \" + str(b))\n",
    "\n",
    "greetings = \"greetings\"\n",
    "print(\"greetings = \" + str(greetings))\n",
    "greetings = \"hola, muchachos\"\n",
    "print(\"greetings = \" + str(greetings))"
   ]
  },
  {
   "cell_type": "code",
   "execution_count": 3,
   "metadata": {
    "collapsed": false
   },
   "outputs": [
    {
     "ename": "NameError",
     "evalue": "name 'other_variable' is not defined",
     "output_type": "error",
     "traceback": [
      "\u001b[0;31m---------------------------------------------------------------------------\u001b[0m",
      "\u001b[0;31mNameError\u001b[0m                                 Traceback (most recent call last)",
      "\u001b[0;32m<ipython-input-3-c6d499bedbc6>\u001b[0m in \u001b[0;36m<module>\u001b[0;34m()\u001b[0m\n\u001b[1;32m      1\u001b[0m \u001b[0mvariable\u001b[0m \u001b[0;34m=\u001b[0m \u001b[0;36m1\u001b[0m\u001b[0;34m\u001b[0m\u001b[0m\n\u001b[0;32m----> 2\u001b[0;31m \u001b[0;32mprint\u001b[0m\u001b[0;34m(\u001b[0m\u001b[0mother_variable\u001b[0m\u001b[0;34m)\u001b[0m\u001b[0;34m\u001b[0m\u001b[0m\n\u001b[0m",
      "\u001b[0;31mNameError\u001b[0m: name 'other_variable' is not defined"
     ]
    }
   ],
   "source": [
    "variable = 1\n",
    "print(other_variable)"
   ]
  },
  {
   "cell_type": "code",
   "execution_count": 5,
   "metadata": {
    "collapsed": false
   },
   "outputs": [
    {
     "name": "stdout",
     "output_type": "stream",
     "text": [
      "<type 'int'>\n",
      "<type 'float'>\n"
     ]
    }
   ],
   "source": [
    "number = 9\n",
    "print(type(number))   # print type of variable \"number\"\n",
    "\n",
    "float_number = 9.0\n",
    "print(float_number type)"
   ]
  },
  {
   "cell_type": "code",
   "execution_count": 7,
   "metadata": {
    "collapsed": false
   },
   "outputs": [
    {
     "ename": "SyntaxError",
     "evalue": "invalid syntax (<ipython-input-7-20630b1e9dac>, line 6)",
     "output_type": "error",
     "traceback": [
      "\u001b[0;36m  File \u001b[0;32m\"<ipython-input-7-20630b1e9dac>\"\u001b[0;36m, line \u001b[0;32m6\u001b[0m\n\u001b[0;31m    print(Convert float_number to integer)\u001b[0m\n\u001b[0m                             ^\u001b[0m\n\u001b[0;31mSyntaxError\u001b[0m\u001b[0;31m:\u001b[0m invalid syntax\n"
     ]
    }
   ],
   "source": [
    "number = 9\n",
    "print(type(number))   # print type of variable \"number\"\n",
    "\n",
    "float_number = 9.0\n",
    "print(float_number)\n",
    "print(Convert float_number to integer)"
   ]
  },
  {
   "cell_type": "code",
   "execution_count": 8,
   "metadata": {
    "collapsed": false
   },
   "outputs": [
    {
     "ename": "SyntaxError",
     "evalue": "invalid syntax (<ipython-input-8-44205a02c220>, line 3)",
     "output_type": "error",
     "traceback": [
      "\u001b[0;36m  File \u001b[0;32m\"<ipython-input-8-44205a02c220>\"\u001b[0;36m, line \u001b[0;32m3\u001b[0m\n\u001b[0;31m    result = divide 'number' by two\u001b[0m\n\u001b[0m                           ^\u001b[0m\n\u001b[0;31mSyntaxError\u001b[0m\u001b[0;31m:\u001b[0m invalid syntax\n"
     ]
    }
   ],
   "source": [
    "number = 9.0        # float number\n",
    "\n",
    "result = divide 'number' by two\n",
    "\n",
    "remainder = calculate the remainder\n",
    "\n",
    "print(\"result = \" + str(result))\n",
    "print(\"remainder = \" + str(remainder))"
   ]
  },
  {
   "cell_type": "code",
   "execution_count": 9,
   "metadata": {
    "collapsed": false
   },
   "outputs": [
    {
     "ename": "SyntaxError",
     "evalue": "invalid syntax (<ipython-input-9-06748d410b3b>, line 7)",
     "output_type": "error",
     "traceback": [
      "\u001b[0;36m  File \u001b[0;32m\"<ipython-input-9-06748d410b3b>\"\u001b[0;36m, line \u001b[0;32m7\u001b[0m\n\u001b[0;31m    number operator 5\u001b[0m\n\u001b[0m                  ^\u001b[0m\n\u001b[0;31mSyntaxError\u001b[0m\u001b[0;31m:\u001b[0m invalid syntax\n"
     ]
    }
   ],
   "source": [
    "number = 9.0\n",
    "print(\"number = \" + str(number))\n",
    "\n",
    "number -= 2\n",
    "print(\"number = \" + str(number))\n",
    "\n",
    "number operator 5\n",
    "\n",
    "print(\"number = \" + str(number))"
   ]
  },
  {
   "cell_type": "code",
   "execution_count": 10,
   "metadata": {
    "collapsed": false
   },
   "outputs": [
    {
     "ename": "SyntaxError",
     "evalue": "invalid syntax (<ipython-input-10-dd907e82357c>, line 4)",
     "output_type": "error",
     "traceback": [
      "\u001b[0;36m  File \u001b[0;32m\"<ipython-input-10-dd907e82357c>\"\u001b[0;36m, line \u001b[0;32m4\u001b[0m\n\u001b[0;31m    is_equal = two operator three\u001b[0m\n\u001b[0m                          ^\u001b[0m\n\u001b[0;31mSyntaxError\u001b[0m\u001b[0;31m:\u001b[0m invalid syntax\n"
     ]
    }
   ],
   "source": [
    "two = 2\n",
    "three = 3\n",
    "\n",
    "is_equal = two operator three\n",
    "\n",
    "print(is_equal)"
   ]
  },
  {
   "cell_type": "code",
   "execution_count": 12,
   "metadata": {
    "collapsed": false
   },
   "outputs": [
    {
     "ename": "SyntaxError",
     "evalue": "invalid syntax (<ipython-input-12-185e0e61e22b>, line 7)",
     "output_type": "error",
     "traceback": [
      "\u001b[0;36m  File \u001b[0;32m\"<ipython-input-12-185e0e61e22b>\"\u001b[0;36m, line \u001b[0;32m7\u001b[0m\n\u001b[0;31m    is_greater = three operator two\u001b[0m\n\u001b[0m                              ^\u001b[0m\n\u001b[0;31mSyntaxError\u001b[0m\u001b[0;31m:\u001b[0m invalid syntax\n"
     ]
    }
   ],
   "source": [
    "one = 1\n",
    "two = 2\n",
    "three = 3\n",
    "\n",
    "print(one < two < three)  # This chained comparison means that the (one < two) and (two < three) comparisons are performed at the same time.\n",
    "\n",
    "is_greater = three operator two\n",
    "print(is_greater)"
   ]
  },
  {
   "cell_type": "code",
   "execution_count": 14,
   "metadata": {
    "collapsed": false
   },
   "outputs": [
    {
     "name": "stdout",
     "output_type": "stream",
     "text": [
      "('Vodka is OK?', True)\n"
     ]
    }
   ],
   "source": [
    "age = 31\n",
    "nation = 'russian'\n",
    "\n",
    "is_adult = age >= 18\n",
    "is_russian = nation == 'russian'\n",
    "\n",
    "can_drink_vodka = is_russian and is_adult\n",
    "print('Vodka is OK?', can_drink_vodka)"
   ]
  }
 ],
 "metadata": {
  "kernelspec": {
   "display_name": "Python 2",
   "language": "python",
   "name": "python2"
  },
  "language_info": {
   "codemirror_mode": {
    "name": "ipython",
    "version": 2
   },
   "file_extension": ".py",
   "mimetype": "text/x-python",
   "name": "python",
   "nbconvert_exporter": "python",
   "pygments_lexer": "ipython2",
   "version": "2.7.12"
  }
 },
 "nbformat": 4,
 "nbformat_minor": 2
}
