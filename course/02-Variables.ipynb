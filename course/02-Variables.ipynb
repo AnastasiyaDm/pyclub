{
 "cells": [
  {
   "cell_type": "markdown",
   "metadata": {},
   "source": [
    "# Переменные\n",
    "\n",
    "Это имена, которым можно присваивать значения. Имя может указывать на разные значения за свою жизнь. Несколько имен могут ссылаться на одно и то же значение. Значения можно преобразовывать к другим типам. Например строку, состоящую из цифр, можно преобразовать в число и обратно.\n",
    "\n",
    "Имя переменной начинается с латинской буквы и состоит из букв, цифр и символа подчеркивания. Например `my_volume1`\n",
    "Операция `print()` выводит на консоль значение переданной переменной или выражения"
   ]
  },
  {
   "cell_type": "code",
   "execution_count": null,
   "metadata": {},
   "outputs": [],
   "source": [
    "a = b = 2  # This is called a \"chained assignment\". It assigns the value 2 to variables \"a\" and \"b\".\n",
    "print \"a = \" + a   # We'll explain the expression str(a) later in the course. For now it is used to convert the  variable \"a\" to a string.\n",
    "print \"b = \" + b\n",
    "\n",
    "greetings = \"greetings\"\n",
    "print \"greetings = \" + greetings\n",
    "greetings = \"hola, muchachos\"\n",
    "print\"greetings = \" + greetings"
   ]
  },
  {
   "cell_type": "code",
   "execution_count": null,
   "metadata": {},
   "outputs": [],
   "source": [
    "variable = 1\n",
    "print unknown_variable"
   ]
  },
  {
   "cell_type": "code",
   "execution_count": null,
   "metadata": {},
   "outputs": [],
   "source": [
    "number = 9\n",
    "print type(number)   # print type of variable \"number\"\n",
    "\n",
    "float_number = 9.0\n",
    "print float_number type"
   ]
  },
  {
   "cell_type": "code",
   "execution_count": null,
   "metadata": {},
   "outputs": [],
   "source": [
    "print Convert float_number to integer"
   ]
  },
  {
   "cell_type": "code",
   "execution_count": null,
   "metadata": {},
   "outputs": [],
   "source": [
    "float_number = 9.0\n",
    "\n",
    "result = divide 'number' by two\n",
    "\n",
    "remainder = calculate the remainder\n",
    "\n",
    "print \"result = \" + result\n",
    "print \"remainder = \" + remainder"
   ]
  },
  {
   "cell_type": "code",
   "execution_count": null,
   "metadata": {},
   "outputs": [],
   "source": [
    "number = 9.0\n",
    "print \"number = \" + number\n",
    "\n",
    "number -= 2\n",
    "print \"number = \" + number\n",
    "\n",
    "number operator 5\n",
    "\n",
    "print \"number = \" + number"
   ]
  },
  {
   "cell_type": "code",
   "execution_count": null,
   "metadata": {},
   "outputs": [],
   "source": [
    "two = 2\n",
    "three = 3\n",
    "\n",
    "is_equal = two operator three\n",
    "\n",
    "print is_equal"
   ]
  },
  {
   "cell_type": "code",
   "execution_count": null,
   "metadata": {},
   "outputs": [],
   "source": [
    "one = 1\n",
    "two = 2\n",
    "three = 3\n",
    "\n",
    "# This chained comparison means that the (one < two) and (two < three) comparisons are performed at the same time.\n",
    "print one < two < three\n",
    "\n",
    "is_greater = three operator two\n",
    "print is_greater"
   ]
  },
  {
   "cell_type": "code",
   "execution_count": null,
   "metadata": {},
   "outputs": [],
   "source": [
    "age = 31\n",
    "nation = 'russian'\n",
    "\n",
    "is_adult = age >= 18\n",
    "is_russian = nation == 'russian'\n",
    "\n",
    "can_drink_vodka = is_russian and is_adult\n",
    "print 'Vodka is OK?', can_drink_vodka"
   ]
  }
 ],
 "metadata": {
  "kernelspec": {
   "display_name": "Python 2",
   "language": "python",
   "name": "python2"
  },
  "language_info": {
   "codemirror_mode": {
    "name": "ipython",
    "version": 2
   },
   "file_extension": ".py",
   "mimetype": "text/x-python",
   "name": "python",
   "nbconvert_exporter": "python",
   "pygments_lexer": "ipython2",
   "version": "2.7.10"
  }
 },
 "nbformat": 4,
 "nbformat_minor": 2
}
