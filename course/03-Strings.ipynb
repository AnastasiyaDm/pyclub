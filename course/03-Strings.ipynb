{
 "cells": [
  {
   "cell_type": "markdown",
   "metadata": {},
   "source": [
    "# Строки\n",
    "\n",
    "Это последовательности байт"
   ]
  },
  {
   "cell_type": "code",
   "execution_count": null,
   "metadata": {},
   "outputs": [],
   "source": [
    "hello = \"Hello\"\n",
    "world = 'World'\n",
    "\n",
    "hello_world = hello operator world\n",
    "print hello_world      # Note: you should print \"Hello World\""
   ]
  },
  {
   "cell_type": "code",
   "execution_count": null,
   "metadata": {},
   "outputs": [],
   "source": [
    "hello = \"hello\"\n",
    "ten_of_hellos = hello operator 10\n",
    "print ten_of_hellos"
   ]
  },
  {
   "cell_type": "code",
   "execution_count": null,
   "metadata": {},
   "outputs": [],
   "source": [
    "python = \"Python\"\n",
    "print \"h \" + python[3]     # Note: string indexing starts with 0\n",
    "\n",
    "p_letter = type_here\n",
    "print p_letter"
   ]
  },
  {
   "cell_type": "code",
   "execution_count": null,
   "metadata": {},
   "outputs": [],
   "source": [
    "long_string = \"This is a very long string!\"\n",
    "exclamation = type_here\n",
    "print exclamation"
   ]
  },
  {
   "cell_type": "code",
   "execution_count": null,
   "metadata": {},
   "outputs": [],
   "source": [
    "monty_python = \"Monty Python\"\n",
    "monty = monty_python[:5]      # one or both index could be dropped. monty_python[:5] is equal to monty_python[0:5]\n",
    "print monty\n",
    "\n",
    "python = type_here\n",
    "print python"
   ]
  },
  {
   "cell_type": "code",
   "execution_count": null,
   "metadata": {},
   "outputs": [],
   "source": [
    "ice_cream = \"ice cream\"\n",
    "print \"cream\" in ice_cream    # print boolean result directly\n",
    "\n",
    "contains = type_here\n",
    "print contains"
   ]
  },
  {
   "cell_type": "code",
   "execution_count": null,
   "metadata": {},
   "outputs": [],
   "source": [
    "phrase = \"\"\"\n",
    "It is a really long string\n",
    "triple-quoted strings are used\n",
    "to define multi-line strings\n",
    "\"\"\"\n",
    "first_half = type_here\n",
    "print first_half"
   ]
  },
  {
   "cell_type": "code",
   "execution_count": null,
   "metadata": {},
   "outputs": [],
   "source": [
    "dont_worry = \"Don't worry about apostrophes\"\n",
    "print dont_worry\n",
    "\n",
    "print \"\\\"Sweet\\\" is an ice-cream\"\n",
    "print 'text'\n",
    "\n",
    "a_verse = \"\"\"\n",
    "Белеет \"парус\" одинокий\n",
    "В тумане 'моря' голубом\n",
    "Что ищет он в краю далеком?\n",
    "Оставил что в краю родном?\n",
    "\"\"\"\n",
    "print a_verse\n",
    "\n",
    "another_verse = '''\n",
    "Совсем не много лет назад,\n",
    "Там где сливаются, шумят,\n",
    "Сомкнувшись словно две сестры,\n",
    "Струи Арагвы и Куры\n",
    "'''\n",
    "print another_verse"
   ]
  },
  {
   "cell_type": "code",
   "execution_count": null,
   "metadata": {},
   "outputs": [],
   "source": [
    "monty_python = \"Monty Python\"\n",
    "print monty_python\n",
    "\n",
    "print monty_python.lower()    # print lower-cased version of the string\n",
    "\n",
    "print upper cased monty_python"
   ]
  },
  {
   "cell_type": "code",
   "execution_count": null,
   "metadata": {},
   "outputs": [],
   "source": [
    "# Old style of formatting strings\n",
    "name = \"John\"\n",
    "print \"Hello, %s! My name is %s!\" % (\"PyCharm\", name)  # Note: %s is inside the string, % is after the string\n",
    "\n",
    "# New style of string fomatting\n",
    "years = 25\n",
    "print \"I'm {} years old\".format(years)"
   ]
  },
  {
   "cell_type": "markdown",
   "metadata": {},
   "source": [
    "# Unicode\n",
    "\n",
    "Это последовательности \"unicode-символов\" в памяти"
   ]
  },
  {
   "cell_type": "code",
   "execution_count": null,
   "metadata": {},
   "outputs": [],
   "source": [
    "name = u'Николай Гоголь'\n",
    "\n",
    "print name\n",
    "print type(name)\n",
    "print repr(name)"
   ]
  },
  {
   "cell_type": "code",
   "execution_count": null,
   "metadata": {},
   "outputs": [],
   "source": [
    "encoded_name = name.encode('utf-8')\n",
    "\n",
    "print encoded_name\n",
    "print type(encoded_name)\n",
    "print repr(encoded_name)"
   ]
  },
  {
   "cell_type": "code",
   "execution_count": null,
   "metadata": {},
   "outputs": [],
   "source": [
    "a_message = '\\xff\\xfe\\xf7\\x90k0eQc0f0o0\\xf7\\x90k0\\x93_H0'\n",
    "decoded_message = a_message.decode('utf-16')\n",
    "\n",
    "print decoded_name\n",
    "print type(decoded_name)\n",
    "print repr(decoded_name)"
   ]
  }
 ],
 "metadata": {
  "kernelspec": {
   "display_name": "Python 2",
   "language": "python",
   "name": "python2"
  },
  "language_info": {
   "codemirror_mode": {
    "name": "ipython",
    "version": 2
   },
   "file_extension": ".py",
   "mimetype": "text/x-python",
   "name": "python",
   "nbconvert_exporter": "python",
   "pygments_lexer": "ipython2",
   "version": "2.7.10"
  }
 },
 "nbformat": 4,
 "nbformat_minor": 2
}
