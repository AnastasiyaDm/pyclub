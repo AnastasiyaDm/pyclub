{
 "cells": [
  {
   "cell_type": "markdown",
   "metadata": {},
   "source": [
    "# Doctest\n",
    "\n",
    "Встроенный модуль для создания простейших тестов\n",
    "\n",
    "Все тесты в файле можно запустить на выполнение с помощью команды\n",
    "\n",
    "```\n",
    "python -m doctest my_filename.py\n",
    "```"
   ]
  },
  {
   "cell_type": "code",
   "execution_count": null,
   "metadata": {},
   "outputs": [],
   "source": [
    "def house_price(space, district):\n",
    "    district_multiplier = 1\n",
    "    if district == 'Khamovniki':\n",
    "        district_multiplier = 1.324\n",
    "    return 1000 * space * district_multiplier"
   ]
  },
  {
   "cell_type": "code",
   "execution_count": null,
   "metadata": {},
   "outputs": [],
   "source": [
    "house_price(100, 'Khimki')"
   ]
  },
  {
   "cell_type": "code",
   "execution_count": null,
   "metadata": {},
   "outputs": [],
   "source": [
    "house_price(90, 'Ostankino')"
   ]
  },
  {
   "cell_type": "code",
   "execution_count": null,
   "metadata": {},
   "outputs": [],
   "source": [
    "house_price(80, 'Khamovniki')"
   ]
  },
  {
   "cell_type": "code",
   "execution_count": null,
   "metadata": {},
   "outputs": [],
   "source": [
    "def find_winner(score):\n",
    "    \"\"\"\n",
    "    >>> find_winner('5:0')\n",
    "    'A'\n",
    "    >>> find_winner('2:3')\n",
    "    'B'\n",
    "    >>> find_winner('1:1')\n",
    "    \"\"\""
   ]
  }
 ],
 "metadata": {
  "kernelspec": {
   "display_name": "Python 2",
   "language": "python",
   "name": "python2"
  },
  "language_info": {
   "codemirror_mode": {
    "name": "ipython",
    "version": 2
   },
   "file_extension": ".py",
   "mimetype": "text/x-python",
   "name": "python",
   "nbconvert_exporter": "python",
   "pygments_lexer": "ipython2",
   "version": "2.7.10"
  }
 },
 "nbformat": 4,
 "nbformat_minor": 2
}
