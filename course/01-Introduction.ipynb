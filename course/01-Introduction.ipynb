{
 "cells": [
  {
   "cell_type": "markdown",
   "metadata": {},
   "source": [
    "# Python\n",
    "\n",
    "- динамический\n",
    "- интерпретируемый\n",
    "- высокоуровневый\n",
    "- многофункциональный\n",
    "- с богатой стандартной библиотекой\n",
    "- ориентирован на производительность разработчика и \"читабельность\" кода\n",
    "- поддерживает несколько парадигм программирования\n",
    "\n",
    "## Установка\n",
    "\n",
    "`sudo apt install python3`\n",
    "\n",
    "## Запуск\n",
    "\n",
    "Одну строчку\n",
    "`python -c \"import os; process = os.getpid(); print('Hello from process #', process)\"`\n",
    "\n",
    "Все содержимое файла\n",
    "`python <script-filename>`\n",
    "\n",
    "## DIY\n",
    "\n",
    "Ответы на вопросы по стандартной библиотеке\n",
    "`pydoc3 datetime.time`\n",
    "\n",
    "### Модуль дня\n",
    "\n",
    "`import datetime`\n",
    "\n",
    "## Задача\n",
    "\n",
    "Написать скрипт, который дает ответ на вопрос:\n",
    "> Сколько денег можно снять через год, если 5000 USD перевести в BYN по сегодняшнему курсу и положить в Белинвестбанк под 15% годовых с капитализацией?\n",
    "\n",
    "Как можно обобщить решение?\n",
    "\n",
    "> Сколько дней, часов и минут осталось до Дня Космонавтики? Пример ответа: \"2 days 15 hours 41 minutes\"\n"
   ]
  }
 ],
 "metadata": {
  "kernelspec": {
   "display_name": "Python 2",
   "language": "python",
   "name": "python2"
  },
  "language_info": {
   "codemirror_mode": {
    "name": "ipython",
    "version": 2
   },
   "file_extension": ".py",
   "mimetype": "text/x-python",
   "name": "python",
   "nbconvert_exporter": "python",
   "pygments_lexer": "ipython2",
   "version": "2.7.12"
  }
 },
 "nbformat": 4,
 "nbformat_minor": 2
}
