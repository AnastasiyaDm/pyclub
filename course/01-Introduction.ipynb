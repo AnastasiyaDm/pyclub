{
 "cells": [
  {
   "cell_type": "markdown",
   "metadata": {
    "deletable": true,
    "editable": true
   },
   "source": [
    "# Python\n",
    "\n",
    "- динамический\n",
    "- интерпретируемый\n",
    "- высокоуровневый\n",
    "- многофункциональный\n",
    "- с богатой стандартной библиотекой\n",
    "- ориентирован на производительность разработчика и \"читабельность\" кода\n",
    "- поддерживает несколько парадигм программирования (структурное, функциональное, объектное)\n",
    "\n",
    "## Установка\n",
    "\n",
    "На ОС linux ubuntu\n",
    "\n",
    "```\n",
    "sudo apt install python3\n",
    "```\n",
    "\n",
    "## Запуск\n",
    "\n",
    "Можно запустить несколько команд в одну строчку\n",
    "\n",
    "```\n",
    "python -c \"import os; process = os.getpid(); print('Hello from process #', process)\"\n",
    "```\n",
    "\n",
    "Или отправить на выполнение все содержимое файла\n",
    "\n",
    "```\n",
    "python <script-filename>\n",
    "```\n",
    "\n",
    "## DIY\n",
    "\n",
    "Ответы на вопросы по стандартной библиотеке можно найти в справочной системе\n",
    "\n",
    "```\n",
    "pydoc3 datetime.time\n",
    "```\n",
    "\n",
    "### Модуль дня\n",
    "\n",
    "`import datetime` - работа с датами и временем\n",
    "\n",
    "## Задача\n",
    "\n",
    "Написать скрипт, который дает ответ на вопрос:\n",
    "> Сколько денег можно снять через год, если 5000 USD перевести в BYN по сегодняшнему курсу и положить в Белинвестбанк под 15% годовых с капитализацией?\n",
    "\n",
    "Как можно обобщить решение?\n",
    "\n",
    "> Сколько дней, часов и минут осталось до Дня Космонавтики? Пример ответа: \"2 days 15 hours 41 minutes\"\n"
   ]
  }
 ],
 "metadata": {
  "kernelspec": {
   "display_name": "Python 2",
   "language": "python",
   "name": "python2"
  },
  "language_info": {
   "codemirror_mode": {
    "name": "ipython",
    "version": 2
   },
   "file_extension": ".py",
   "mimetype": "text/x-python",
   "name": "python",
   "nbconvert_exporter": "python",
   "pygments_lexer": "ipython2",
   "version": "2.7.12"
  }
 },
 "nbformat": 4,
 "nbformat_minor": 2
}
