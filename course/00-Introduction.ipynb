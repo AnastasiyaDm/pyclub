{
 "cells": [
  {
   "cell_type": "markdown",
   "metadata": {},
   "source": [
    "# Python\n",
    "\n",
    "- динамический\n",
    "- интерпретируемый\n",
    "- высокоуровневый\n",
    "- многофункциональный\n",
    "- с богатой стандартной библиотекой\n",
    "- ориентирован на производительность разработчика и \"читабельность\" кода\n",
    "- поддерживает несколько парадигм программирования (структурное, функциональное, объектное)\n"
   ]
  },
  {
   "cell_type": "markdown",
   "metadata": {},
   "source": [
    "## Установка\n",
    "\n",
    "На ОС linux ubuntu python2.7 уже включен в стандартную поставку. Если хочется дополнительно установить python3.x\n",
    "\n",
    "```\n",
    "sudo apt install python3\n",
    "```\n",
    "\n",
    "На Mac OS python2.7 также включен в стандартную поставку. Можно также поставить другую версию интерпретатора:\n",
    "\n",
    "```\n",
    "brew install python3\n",
    "```"
   ]
  },
  {
   "cell_type": "markdown",
   "metadata": {},
   "source": [
    "## Запуск\n",
    "\n",
    "Можно запустить несколько инструкций в одну строчку\n",
    "\n",
    "```\n",
    "python -c \"import os; process = os.getpid(); print 'Hello from process #', process\"\n",
    "```\n",
    "\n",
    "Или можно выполнить какой-то модуль. Например отформатировать json-ответ API для разбора человеком\n",
    "\n",
    "```\n",
    "cat api-response.json | python -m json.tool\n",
    "```\n",
    "\n",
    "Или отправить на выполнение все содержимое любого текстового файла\n",
    "\n",
    "```\n",
    "python <script-filename>\n",
    "```"
   ]
  },
  {
   "cell_type": "markdown",
   "metadata": {},
   "source": [
    "## DIY\n",
    "\n",
    "Ответы на вопросы по стандартной библиотеке можно найти в гуугле или в справочной системе которая идет в комплекте\n",
    "\n",
    "```\n",
    "pydoc datetime.time\n",
    "pydoc json.dumps\n",
    "```\n",
    "\n",
    "Знай и люби методы интроспекции - как понять что вообще происходит?"
   ]
  },
  {
   "cell_type": "code",
   "execution_count": null,
   "metadata": {},
   "outputs": [],
   "source": [
    "import os\n",
    "\n",
    "print os"
   ]
  },
  {
   "cell_type": "code",
   "execution_count": null,
   "metadata": {},
   "outputs": [],
   "source": [
    "print dir(os)"
   ]
  },
  {
   "cell_type": "code",
   "execution_count": null,
   "metadata": {},
   "outputs": [],
   "source": [
    "print os.environ"
   ]
  },
  {
   "cell_type": "code",
   "execution_count": null,
   "metadata": {},
   "outputs": [],
   "source": [
    "print type(os.path)\n",
    "print type(os.path.join)\n",
    "print type(os.path.pardir)"
   ]
  },
  {
   "cell_type": "code",
   "execution_count": null,
   "metadata": {},
   "outputs": [],
   "source": [
    "import csv\n",
    "print help(csv.DictReader)"
   ]
  },
  {
   "cell_type": "code",
   "execution_count": null,
   "metadata": {},
   "outputs": [],
   "source": [
    "help(os)"
   ]
  }
 ],
 "metadata": {
  "kernelspec": {
   "display_name": "Python 2",
   "language": "python",
   "name": "python2"
  },
  "language_info": {
   "codemirror_mode": {
    "name": "ipython",
    "version": 2
   },
   "file_extension": ".py",
   "mimetype": "text/x-python",
   "name": "python",
   "nbconvert_exporter": "python",
   "pygments_lexer": "ipython2",
   "version": "2.7.10"
  }
 },
 "nbformat": 4,
 "nbformat_minor": 2
}
