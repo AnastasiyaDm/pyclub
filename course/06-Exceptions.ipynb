{
 "cells": [
  {
   "cell_type": "markdown",
   "metadata": {},
   "source": [
    "# When something goes wrong\n",
    "An exception gets raised"
   ]
  },
  {
   "cell_type": "code",
   "execution_count": null,
   "metadata": {},
   "outputs": [],
   "source": [
    "1 / 0  # Python can't divide by zero"
   ]
  },
  {
   "cell_type": "code",
   "execution_count": null,
   "metadata": {},
   "outputs": [],
   "source": [
    "'abracadabra!  # This is incorrect python expression"
   ]
  },
  {
   "cell_type": "code",
   "execution_count": null,
   "metadata": {},
   "outputs": [],
   "source": [
    "int('abracadabra')  # Not numeric string"
   ]
  },
  {
   "cell_type": "code",
   "execution_count": null,
   "metadata": {},
   "outputs": [],
   "source": [
    "'abracadabra'.count()  # Incorrect method call"
   ]
  },
  {
   "cell_type": "code",
   "execution_count": null,
   "metadata": {},
   "outputs": [],
   "source": [
    "user.email = 'admin@datarobot.com'  # Unknown reference"
   ]
  },
  {
   "cell_type": "markdown",
   "metadata": {},
   "source": [
    "## Everything is an object in python\n",
    "Even exceptions. They could be safe enough until are _raised_ aka __detonated__"
   ]
  },
  {
   "cell_type": "code",
   "execution_count": null,
   "metadata": {},
   "outputs": [],
   "source": [
    "error = ValueError('You specified invalid date of birth')"
   ]
  },
  {
   "cell_type": "code",
   "execution_count": null,
   "metadata": {},
   "outputs": [],
   "source": [
    "error?"
   ]
  },
  {
   "cell_type": "code",
   "execution_count": null,
   "metadata": {},
   "outputs": [],
   "source": [
    "raise error"
   ]
  },
  {
   "cell_type": "code",
   "execution_count": null,
   "metadata": {},
   "outputs": [],
   "source": [
    "assert isinstance(error, ValueError) is True\n",
    "assert isinstance(error, Exception) is True\n",
    "assert isinstance(error, RuntimeError) is False"
   ]
  },
  {
   "cell_type": "markdown",
   "metadata": {},
   "source": [
    "## Uncaught error\n",
    "Is a cause of program interruption. All examples above weren't caught. But interactive notebook just shows errors to us and wait for next user's action. This won't play nice when script is running. Python interpreter will just stop and release all occupied resources - memory, open files etc."
   ]
  },
  {
   "cell_type": "markdown",
   "metadata": {},
   "source": [
    "### Permanent errors\n",
    "Some errors are very serious. There is no point in \"retry once again\" or \"wait a second and try again\". For example, OS is going to reboot and stops all the processes; super-user has told to OS to kill python interpreter process. It's better to comply and stop the program."
   ]
  },
  {
   "cell_type": "code",
   "execution_count": null,
   "metadata": {},
   "outputs": [],
   "source": [
    "SystemError?"
   ]
  },
  {
   "cell_type": "code",
   "execution_count": null,
   "metadata": {},
   "outputs": [],
   "source": [
    "TypeError?"
   ]
  },
  {
   "cell_type": "markdown",
   "metadata": {},
   "source": [
    "### Catch an exception"
   ]
  },
  {
   "cell_type": "code",
   "execution_count": null,
   "metadata": {},
   "outputs": [],
   "source": [
    "try:\n",
    "    'a string'.not_existing_method()\n",
    "    print 'Success!'\n",
    "except:\n",
    "    print 'Error!'"
   ]
  },
  {
   "cell_type": "code",
   "execution_count": null,
   "metadata": {},
   "outputs": [],
   "source": [
    "try:\n",
    "    'a string'.not_existing_method()\n",
    "    print 'Success!'\n",
    "except AttributeError:\n",
    "    print 'Attribute error!'"
   ]
  },
  {
   "cell_type": "code",
   "execution_count": null,
   "metadata": {},
   "outputs": [],
   "source": [
    "try:\n",
    "    'a string'.not_existing_method()\n",
    "    print 'Success!'\n",
    "except ValueError:\n",
    "    print 'Value error!'"
   ]
  },
  {
   "cell_type": "code",
   "execution_count": null,
   "metadata": {},
   "outputs": [],
   "source": [
    "try:\n",
    "    try:\n",
    "        'a string'.not_existing_method()\n",
    "        print 'Success!'\n",
    "    except ValueError:\n",
    "        print 'Value error!'\n",
    "except AttributeError as e:\n",
    "    print 'Attribute error:', e.message"
   ]
  },
  {
   "cell_type": "markdown",
   "metadata": {},
   "source": [
    "### Recoverable errors\n",
    "Sometimes we could tolerate error. For example when some optional field is missed or have incorrect value.\n",
    "\n",
    "Let's say we have a text file with information about employees.\n",
    "\n",
    "```\n",
    "id,Name,Souls\n",
    "2,Plyushkin,100\n",
    "1,Manilov,25\n",
    "3,Nozdrev,10\n",
    "4,Sobakevich,\n",
    "5,Chichkov,5\n",
    "```"
   ]
  },
  {
   "cell_type": "code",
   "execution_count": null,
   "metadata": {},
   "outputs": [],
   "source": [
    "import csv\n",
    "import io\n",
    "\n",
    "text = io.StringIO(u\"\"\"id,Name,Souls\n",
    "1,Plyushkin,100\n",
    "2,Sobakevich,\n",
    "3,Manilov,25\n",
    "4,Nozdrev,10\n",
    "5,Chichkov,5\n",
    "\"\"\")\n",
    "\n",
    "reader = csv.DictReader(text)\n",
    "for row in reader:\n",
    "    print row['Name'], int(row['Souls']) * 0.13"
   ]
  },
  {
   "cell_type": "code",
   "execution_count": null,
   "metadata": {},
   "outputs": [],
   "source": [
    "def calculate_tax(text_souls):\n",
    "    try:\n",
    "        return int(text_souls) * 0.13\n",
    "    except:\n",
    "        return 0"
   ]
  },
  {
   "cell_type": "code",
   "execution_count": null,
   "metadata": {},
   "outputs": [],
   "source": [
    "text.seek(0)\n",
    "reader = csv.DictReader(text)\n",
    "for row in reader:\n",
    "    print row['Name'], calculate_tax(row['Souls'])"
   ]
  },
  {
   "cell_type": "markdown",
   "metadata": {},
   "source": [
    "## Readable message\n",
    "Tracebacks aren't _user-friendly_. We could show more reasonable error message"
   ]
  },
  {
   "cell_type": "code",
   "execution_count": null,
   "metadata": {},
   "outputs": [],
   "source": [
    "open('unknown.file')"
   ]
  },
  {
   "cell_type": "code",
   "execution_count": null,
   "metadata": {},
   "outputs": [],
   "source": [
    "try:\n",
    "    filename = 'unknown.file'\n",
    "    file_obj = open(filename)\n",
    "except IOError:\n",
    "    print 'Error: File', filename, 'not found in working dir. Please copy it from S3 bucket.'\n",
    "    exit(1)"
   ]
  },
  {
   "cell_type": "code",
   "execution_count": null,
   "metadata": {},
   "outputs": [],
   "source": []
  }
 ],
 "metadata": {
  "kernelspec": {
   "display_name": "Python 2",
   "language": "python",
   "name": "python2"
  },
  "language_info": {
   "codemirror_mode": {
    "name": "ipython",
    "version": 2
   },
   "file_extension": ".py",
   "mimetype": "text/x-python",
   "name": "python",
   "nbconvert_exporter": "python",
   "pygments_lexer": "ipython2",
   "version": "2.7.12"
  }
 },
 "nbformat": 4,
 "nbformat_minor": 2
}
