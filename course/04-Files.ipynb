{
 "cells": [
  {
   "cell_type": "markdown",
   "metadata": {},
   "source": [
    "# Files\n",
    "\n",
    "Файлы позволяют сохранять что-то между запусками программы. Базы данных это в принципе сложный набор файлов, содержащих полезную и служебную информацию\n",
    "\n",
    "Для работы с файлом (чтение или запись) его нужно сначала \"открыть\". Все, что было открыто, нужно закрывать"
   ]
  },
  {
   "cell_type": "code",
   "execution_count": null,
   "metadata": {},
   "outputs": [],
   "source": [
    "filename = 'names.txt'\n",
    "mode = 'r'\n",
    "\n",
    "file_obj = open(filename, mode)\n",
    "\n",
    "text = file_obj.read()  # Read it all!\n",
    "\n",
    "print text\n",
    "\n",
    "file_obj.close()"
   ]
  },
  {
   "cell_type": "code",
   "execution_count": null,
   "metadata": {},
   "outputs": [],
   "source": [
    "buffer = 20\n",
    "\n",
    "file_obj = open(filename, mode)\n",
    "\n",
    "text = file_obj.read(buffer)  # Read it by chunks\n",
    "while text:\n",
    "    print text\n",
    "    text = file_obj.read(buffer)\n",
    "\n",
    "file_obj.close()"
   ]
  },
  {
   "cell_type": "code",
   "execution_count": null,
   "metadata": {},
   "outputs": [],
   "source": [
    "print '# Reading all known names'\n",
    "\n",
    "with open(filename) as file_obj:  # No need to close file!\n",
    "    print file_obj.read()\n",
    "\n",
    "print '# No more records'"
   ]
  },
  {
   "cell_type": "code",
   "execution_count": null,
   "metadata": {},
   "outputs": [],
   "source": [
    "new_filename = 'test.txt'\n",
    "mode = 'w'\n",
    "\n",
    "message = 'Long line!' + '*' * 990\n",
    "\n",
    "print 'Writing', len(message), 'bytes'\n",
    "write_file = open(new_filename, mode)\n",
    "write_file.write(message)\n",
    "\n",
    "\n",
    "print 'Reading bytes back'\n",
    "read_file = open(new_filename)\n",
    "text = read_file.read()\n",
    "\n",
    "print 'Read', len(text), 'bytes'"
   ]
  },
  {
   "cell_type": "code",
   "execution_count": null,
   "metadata": {},
   "outputs": [],
   "source": [
    "with open(filename) as read_file:\n",
    "    counter = 0\n",
    "    for line in read_file.readlines():\n",
    "        counter += 1\n",
    "\n",
    "print 'There are', counter, 'lines in', filename"
   ]
  },
  {
   "cell_type": "code",
   "execution_count": null,
   "metadata": {},
   "outputs": [],
   "source": [
    "mp3_filename = 'foolproof.mp3'\n",
    "\n",
    "with open(mp3_filename) as read_file:\n",
    "    for line in read_file:\n",
    "        print line\n",
    "        break"
   ]
  }
 ],
 "metadata": {
  "kernelspec": {
   "display_name": "Python 2",
   "language": "python",
   "name": "python2"
  },
  "language_info": {
   "codemirror_mode": {
    "name": "ipython",
    "version": 2
   },
   "file_extension": ".py",
   "mimetype": "text/x-python",
   "name": "python",
   "nbconvert_exporter": "python",
   "pygments_lexer": "ipython2",
   "version": "2.7.10"
  }
 },
 "nbformat": 4,
 "nbformat_minor": 2
}
